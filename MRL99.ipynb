{
 "cells": [
  {
   "cell_type": "code",
   "execution_count": 1,
   "id": "0938d33b",
   "metadata": {
    "ExecuteTime": {
     "end_time": "2022-02-12T18:27:20.386219Z",
     "start_time": "2022-02-12T18:27:20.186081Z"
    }
   },
   "outputs": [],
   "source": [
    "import math\n",
    "import random\n",
    "import numpy as np\n",
    "import sys"
   ]
  },
  {
   "cell_type": "markdown",
   "id": "0dea3b83",
   "metadata": {},
   "source": [
    "# Data input stream simulation"
   ]
  },
  {
   "cell_type": "code",
   "execution_count": 2,
   "id": "4f29f190",
   "metadata": {
    "ExecuteTime": {
     "end_time": "2022-02-12T18:27:20.401842Z",
     "start_time": "2022-02-12T18:27:20.386219Z"
    }
   },
   "outputs": [],
   "source": [
    "class DataStream:\n",
    "    def __init__(self, n=0, arr=None):\n",
    "        self.arr = arr\n",
    "        if arr is not None:\n",
    "            self.n = len(arr)\n",
    "        else:\n",
    "            self.n = n\n",
    "    \n",
    "    def stream(self, k, r=1):\n",
    "        i = 0\n",
    "        while i < k and self.n > 0:\n",
    "            if self.arr is None:\n",
    "                t = np.random.rand(min(r, self.n))\n",
    "            else:\n",
    "                idx = min(r, self.n)\n",
    "                t = np.array(self.arr[:idx])\n",
    "                self.arr = self.arr[idx:]\n",
    "            i += 1\n",
    "            self.n -= r\n",
    "            yield t\n",
    "            \n",
    "    def stream_ended(self):\n",
    "        if self.n <= 0:\n",
    "            return True\n",
    "        else:\n",
    "            return False"
   ]
  },
  {
   "cell_type": "markdown",
   "id": "9c59dde3",
   "metadata": {},
   "source": [
    "# MRL99 implementation"
   ]
  },
  {
   "cell_type": "code",
   "execution_count": 3,
   "id": "dc5a4b12",
   "metadata": {
    "ExecuteTime": {
     "end_time": "2022-02-12T18:27:20.433093Z",
     "start_time": "2022-02-12T18:27:20.401842Z"
    }
   },
   "outputs": [],
   "source": [
    "class MRL99:\n",
    "    def __init__(self, b, r, k, h, inf=1e14):\n",
    "        # init parameters\n",
    "        self.b = b\n",
    "        self.k = k\n",
    "        self.r = r\n",
    "        self.h = h\n",
    "        self.maxh = self.h - 1\n",
    "        # init buffers\n",
    "        self.buffer = [[] for i in range(self.b)]\n",
    "        self.buffer_empty = [True for i in range(self.b)]\n",
    "        self.buffer_height = [0 for i in range(self.b)]\n",
    "        self.buffer_weight = [0 for i in range(self.b)]\n",
    "        # some value substituting the infinite\n",
    "        self.inf = inf\n",
    "        self.min_l = 0\n",
    "        self.inp = None\n",
    "        self.mem = 0\n",
    "        \n",
    "    def reset(self):\n",
    "        self.maxh = self.h - 1\n",
    "        # init buffers\n",
    "        self.buffer = [[] for i in range(self.k)]\n",
    "        self.buffer_empty = [True for i in range(self.b)]\n",
    "        self.buffer_height = [0 for i in range(self.b)]\n",
    "        self.buffer_weight = [0 for i in range(self.b)]\n",
    "        self.min_l = 0\n",
    "        self.inp = None\n",
    "        self.mem = 0\n",
    "    \n",
    "    def new(self, buffer_idx, height=0):\n",
    "        # select randomly k elements\n",
    "        elements = []\n",
    "        s = self.inp.stream(self.k, self.r)\n",
    "        for el in s:\n",
    "            elements.append(np.random.choice(el))\n",
    "        # if there is less than k elements append inf\n",
    "        while len(elements) < self.k:\n",
    "            elements.append(self.inf)\n",
    "            elements.append(-1 * self.inf)\n",
    "        # update buffer states\n",
    "        self.buffer[buffer_idx] = sorted(elements)\n",
    "        self.buffer_weight[buffer_idx] = 1\n",
    "        self.buffer_empty[buffer_idx] = False\n",
    "        self.buffer_height[buffer_idx] = height\n",
    "        if height < self.min_l:\n",
    "            self.min_l = height\n",
    "    \n",
    "    def collapse(self, buffer_ids):\n",
    "        # calculate weight\n",
    "        W = sum([self.buffer_weight[i] for i in buffer_ids])\n",
    "        # calculate offset\n",
    "        idx = int(W / 2) if W % 2 == 0 else int((W + 1) / 2)\n",
    "        # fill the new elements\n",
    "        i = 0\n",
    "        elements = []\n",
    "        while len(elements) < self.k:\n",
    "            min_idx = -1\n",
    "            min_val = self.inf\n",
    "            for j in buffer_ids:\n",
    "                if len(self.buffer[j]) > 0:\n",
    "                    if self.buffer[j][0] < min_val:\n",
    "                        min_val = self.buffer[j][0]\n",
    "                        min_idx = j\n",
    "            self.buffer[min_idx].pop(0)\n",
    "            i += self.buffer_weight[min_idx]\n",
    "            if i > idx:\n",
    "                elements.append(min_val)\n",
    "                idx += W\n",
    "        # update buffer states\n",
    "        buffer_idx = buffer_ids[0]\n",
    "        self.buffer[buffer_idx] = elements\n",
    "        self.buffer_empty[buffer_idx] = False\n",
    "        self.buffer_weight[buffer_idx] = W\n",
    "        self.buffer_height[buffer_idx] = self.min_l + 1\n",
    "        self.min_l += 1\n",
    "        # update r if max height reached\n",
    "        if self.min_l > self.maxh:\n",
    "            self.maxh = self.min_l\n",
    "            self.r = self.r * 2\n",
    "        # empty buffers\n",
    "        for i in buffer_ids[1:]:\n",
    "            self.buffer_empty[i] = True\n",
    "            self.buffer[i] = []\n",
    "            self.buffer_height[i] = 0\n",
    "            self.buffer_weight[i] = 0\n",
    "    \n",
    "    def output(self, q):\n",
    "        if q < 0 or q > 1:\n",
    "            raise Exception('Percentile value should be in range [0; 1]')\n",
    "        # find needed index\n",
    "        buffer_ids = [i for i in range(self.b) if not self.buffer_empty[i]]\n",
    "        W = sum([self.buffer_weight[i] for i in buffer_ids])\n",
    "        idx = int(math.ceil(q * self.k * W))\n",
    "        # find the element corresponding to the quantile\n",
    "        i = 0\n",
    "        while i <= idx:\n",
    "            min_idx = -1\n",
    "            min_val = self.inf\n",
    "            for j in buffer_ids:\n",
    "                if len(self.buffer[j]) > 0:\n",
    "                    if self.buffer[j][0] < min_val:\n",
    "                        min_val = self.buffer[j][0]\n",
    "                        min_idx = j\n",
    "            self.buffer[min_idx].pop(0)\n",
    "            i += self.buffer_weight[min_idx]\n",
    "            if i > idx:\n",
    "                return min_val\n",
    "            \n",
    "    def calculate_percentile(self, inp, q):\n",
    "        self.reset()\n",
    "        self.inp = inp\n",
    "        while not self.inp.stream_ended():\n",
    "            # new if 1 buffer is empty\n",
    "            if sum(self.buffer_empty) == 1:\n",
    "                idx = -1\n",
    "                for i in range(self.b):\n",
    "                    if self.buffer_empty[i]:\n",
    "                        idx = i\n",
    "                        break\n",
    "                self.new(idx, self.min_l)\n",
    "                mem = sys.getsizeof(self.buffer)\n",
    "                if mem > self.mem:\n",
    "                    self.mem = mem\n",
    "            # new if more than one buffer is empty\n",
    "            elif sum(self.buffer_empty) > 1:\n",
    "                for i in range(self.b):\n",
    "                    if self.buffer_empty[i]:\n",
    "                        if not self.inp.stream_ended():\n",
    "                            self.new(i)\n",
    "                        else:\n",
    "                            break\n",
    "                mem = sys.getsizeof(self.buffer)\n",
    "                if mem > self.mem:\n",
    "                    self.mem = mem\n",
    "            # collapse if possible\n",
    "            else:\n",
    "                buffer_ids = [i for i in range(self.b) if (self.buffer_height[i] == self.min_l and not self.buffer_empty[i])]\n",
    "                if len(buffer_ids) > 1:\n",
    "                    self.collapse(buffer_ids)\n",
    "                else:\n",
    "                    break\n",
    "        # output when no other operations are available\n",
    "        return self.output(q)"
   ]
  },
  {
   "cell_type": "markdown",
   "id": "3698cd64",
   "metadata": {},
   "source": [
    "# Compare the results with the numpy.quantile"
   ]
  },
  {
   "cell_type": "code",
   "execution_count": 4,
   "id": "ed865672",
   "metadata": {
    "ExecuteTime": {
     "end_time": "2022-02-12T18:27:20.448714Z",
     "start_time": "2022-02-12T18:27:20.433093Z"
    }
   },
   "outputs": [],
   "source": [
    "b = 6\n",
    "k = 215\n",
    "r = 2\n",
    "h = 5"
   ]
  },
  {
   "cell_type": "code",
   "execution_count": 5,
   "id": "17dc014f",
   "metadata": {
    "ExecuteTime": {
     "end_time": "2022-02-12T18:27:22.643836Z",
     "start_time": "2022-02-12T18:27:20.448714Z"
    }
   },
   "outputs": [
    {
     "name": "stdout",
     "output_type": "stream",
     "text": [
      "MRL99 approximation: 0.2502310057604078\n",
      "Numpy approximation: 0.24931940299011962\n",
      "\n",
      "MRL99 approximation: -0.6741301685921832\n",
      "Numpy approximation: -0.6710506289520288\n",
      "\n",
      "MRL99 approximation: -50\n",
      "Numpy approximation: -51.0\n",
      "\n"
     ]
    }
   ],
   "source": [
    "mrl99 = MRL99(b=b, r=r, k=k, h=h)\n",
    "\n",
    "a = np.random.rand(100000)\n",
    "stream = DataStream(arr=a)\n",
    "quantile = mrl99.calculate_percentile(stream, 0.25)\n",
    "print(f'MRL99 approximation: {quantile}')\n",
    "print(f'Numpy approximation: {np.quantile(a, 0.25)}')\n",
    "print()\n",
    "\n",
    "a = np.random.randn(100000)\n",
    "stream = DataStream(arr=a)\n",
    "quantile = mrl99.calculate_percentile(stream, 0.25)\n",
    "print(f'MRL99 approximation: {quantile}')\n",
    "print(f'Numpy approximation: {np.quantile(a, 0.25)}')\n",
    "print()\n",
    "\n",
    "a = np.random.randint(-100, 100, size=100000)\n",
    "stream = DataStream(arr=a)\n",
    "quantile = mrl99.calculate_percentile(stream, 0.25)\n",
    "print(f'MRL99 approximation: {quantile}')\n",
    "print(f'Numpy approximation: {np.quantile(a, 0.25)}')\n",
    "print()"
   ]
  },
  {
   "cell_type": "markdown",
   "id": "82e50602",
   "metadata": {},
   "source": [
    "# Compare execution time with the growth of N"
   ]
  },
  {
   "cell_type": "code",
   "execution_count": 6,
   "id": "c7ec8962",
   "metadata": {
    "ExecuteTime": {
     "end_time": "2022-02-12T18:27:22.691647Z",
     "start_time": "2022-02-12T18:27:22.643836Z"
    }
   },
   "outputs": [],
   "source": [
    "import psutil\n",
    "from time import time"
   ]
  },
  {
   "cell_type": "code",
   "execution_count": 7,
   "id": "9ba438fd",
   "metadata": {
    "ExecuteTime": {
     "end_time": "2022-02-12T18:27:23.166094Z",
     "start_time": "2022-02-12T18:27:22.691647Z"
    }
   },
   "outputs": [],
   "source": [
    "import matplotlib.pyplot as plt"
   ]
  },
  {
   "cell_type": "code",
   "execution_count": 8,
   "id": "b7a1aa21",
   "metadata": {
    "ExecuteTime": {
     "end_time": "2022-02-12T18:27:23.181383Z",
     "start_time": "2022-02-12T18:27:23.166094Z"
    }
   },
   "outputs": [],
   "source": [
    "b = 6\n",
    "k = 215\n",
    "r = 2\n",
    "h = 5\n",
    "\n",
    "mrl99 = MRL99(b=b, r=r, k=k, h=h)"
   ]
  },
  {
   "cell_type": "code",
   "execution_count": 9,
   "id": "00384127",
   "metadata": {
    "ExecuteTime": {
     "end_time": "2022-02-12T18:30:45.107275Z",
     "start_time": "2022-02-12T18:27:23.185727Z"
    }
   },
   "outputs": [
    {
     "name": "stdout",
     "output_type": "stream",
     "text": [
      "1000.0 done\n",
      "10000.0 done\n",
      "100000.0 done\n",
      "1000000.0 done\n",
      "10000000.0 done\n",
      "100000000.0 done\n",
      "1000000000.0 done\n"
     ]
    }
   ],
   "source": [
    "times = []\n",
    "for n in np.logspace(3, 9, num=7):\n",
    "    t_avg = 0\n",
    "    for i in range(10):\n",
    "        a = np.random.rand(int(n))\n",
    "        stream = DataStream(arr=a)\n",
    "        start = time()\n",
    "        quantile = mrl99.calculate_percentile(stream, 0.25)\n",
    "        end = time()\n",
    "        t_avg += end - start\n",
    "    times.append(t_avg / 10)\n",
    "    print(f'{n} done')"
   ]
  },
  {
   "cell_type": "code",
   "execution_count": 10,
   "id": "f00bc8e0",
   "metadata": {
    "ExecuteTime": {
     "end_time": "2022-02-12T18:30:45.591122Z",
     "start_time": "2022-02-12T18:30:45.138520Z"
    }
   },
   "outputs": [
    {
     "data": {
      "image/png": "[encoded data removed]",
      "text/plain": [
       "<Figure size 720x432 with 1 Axes>"
      ]
     },
     "metadata": {
      "needs_background": "light"
     },
     "output_type": "display_data"
    }
   ],
   "source": [
    "plt.figure(figsize=(10, 6))\n",
    "plt.plot(range(3, 10), times)\n",
    "plt.xlabel('N, log')\n",
    "plt.ylabel('time, s')\n",
    "plt.title('MRL99 running time')\n",
    "plt.show()"
   ]
  },
  {
   "cell_type": "markdown",
   "id": "d3565a92",
   "metadata": {},
   "source": [
    "# Compare memory consumption with the error"
   ]
  },
  {
   "cell_type": "code",
   "execution_count": 11,
   "id": "6ae5b374",
   "metadata": {
    "ExecuteTime": {
     "end_time": "2022-02-12T18:30:48.869559Z",
     "start_time": "2022-02-12T18:30:45.591122Z"
    }
   },
   "outputs": [],
   "source": [
    "errors = [0.1, 0.01, 0.001, 0.0001]\n",
    "memory = []\n",
    "for e in errors:\n",
    "    r = 2\n",
    "    h = math.ceil(np.log(1 / e))\n",
    "    b = h + 1\n",
    "    k = math.ceil(1 / e * np.sqrt(h))\n",
    "    mrl99 = MRL99(b=b, r=r, k=k, h=h)\n",
    "    a = np.random.rand(100000)\n",
    "    stream = DataStream(arr=a)\n",
    "    quantile = mrl99.calculate_percentile(stream, 0.25)\n",
    "    memory.append(mrl99.mem)"
   ]
  },
  {
   "cell_type": "code",
   "execution_count": 12,
   "id": "ef7389fc",
   "metadata": {
    "ExecuteTime": {
     "end_time": "2022-02-12T18:30:48.884818Z",
     "start_time": "2022-02-12T18:30:48.869559Z"
    }
   },
   "outputs": [],
   "source": [
    "memory.reverse()"
   ]
  },
  {
   "cell_type": "code",
   "execution_count": 13,
   "id": "8ecb179d",
   "metadata": {
    "ExecuteTime": {
     "end_time": "2022-02-12T18:30:49.141040Z",
     "start_time": "2022-02-12T18:30:48.884818Z"
    }
   },
   "outputs": [
    {
     "data": {
      "image/png": "[encoded data removed]",
      "text/plain": [
       "<Figure size 720x432 with 1 Axes>"
      ]
     },
     "metadata": {
      "needs_background": "light"
     },
     "output_type": "display_data"
    }
   ],
   "source": [
    "lbls = [1 / e * (np.log(1 / e) ** 2) for e in errors]\n",
    "lbls.reverse()\n",
    "\n",
    "plt.figure(figsize=(10, 6))\n",
    "plt.plot(range(-4, 0), memory, label='measured')\n",
    "plt.plot(range(-4, 0), lbls, label='theoretical')\n",
    "plt.xlabel('error, log')\n",
    "plt.ylabel('memory, bytes')\n",
    "plt.title('MRL99 memory consumption')\n",
    "plt.legend()\n",
    "plt.show()"
   ]
  },
  {
   "cell_type": "code",
   "execution_count": null,
   "id": "23e3a0ee",
   "metadata": {},
   "outputs": [],
   "source": []
  }
 ],
 "metadata": {
  "kernelspec": {
   "display_name": "Python 3",
   "language": "python",
   "name": "python3"
  },
  "language_info": {
   "codemirror_mode": {
    "name": "ipython",
    "version": 3
   },
   "file_extension": ".py",
   "mimetype": "text/x-python",
   "name": "python",
   "nbconvert_exporter": "python",
   "pygments_lexer": "ipython3",
   "version": "3.8.8"
  },
  "toc": {
   "base_numbering": 1,
   "nav_menu": {},
   "number_sections": true,
   "sideBar": true,
   "skip_h1_title": false,
   "title_cell": "Table of Contents",
   "title_sidebar": "Contents",
   "toc_cell": false,
   "toc_position": {},
   "toc_section_display": true,
   "toc_window_display": false
  }
 },
 "nbformat": 4,
 "nbformat_minor": 5
}
